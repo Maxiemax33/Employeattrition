{
 "cells": [
  {
   "cell_type": "code",
   "execution_count": 31,
   "id": "e40e28a9",
   "metadata": {},
   "outputs": [
    {
     "name": "stderr",
     "output_type": "stream",
     "text": [
      "2025/09/28 05:38:02 INFO mlflow.tracking.fluent: Experiment with name 'employee-attrition-prod' does not exist. Creating a new experiment.\n"
     ]
    },
    {
     "name": "stdout",
     "output_type": "stream",
     "text": [
      "✅ MLflow is now configured to use the server at: http://127.0.0.1:5000\n"
     ]
    }
   ],
   "source": [
    "import pandas as pd\n",
    "from pathlib import Path\n",
    "import os\n",
    "from sklearn.model_selection import train_test_split\n",
    "from sklearn.pipeline import Pipeline\n",
    "from sklearn.compose import ColumnTransformer\n",
    "from sklearn.preprocessing import OneHotEncoder, StandardScaler\n",
    "from sklearn.impute import SimpleImputer\n",
    "from sklearn.metrics import accuracy_score, precision_score, recall_score, f1_score, roc_auc_score\n",
    "\n",
    "import mlflow\n",
    "import mlflow.sklearn\n",
    "\n",
    "# ---------- UPDATED MLFLOW CONFIG ----------\n",
    "# This new code points to the MLflow server you are running with Docker Compose.\n",
    "# It replaces the old TRACKING_FOLDER and os.makedirs logic.\n",
    "MLFLOW_SERVER_URI = \"http://127.0.0.1:5000\"\n",
    "EXPERIMENT_NAME = \"employee-attrition-prod\"\n",
    "\n",
    "mlflow.set_tracking_uri(MLFLOW_SERVER_URI)\n",
    "mlflow.set_experiment(EXPERIMENT_NAME)\n",
    "\n",
    "print(f\"✅ MLflow is now configured to use the server at: {MLFLOW_SERVER_URI}\")\n",
    "# ------------------------------------------\n",
    "\n",
    "# Using a relative path for your data is also a best practice.\n",
    "DATA_PATH = \"C:/Users/shani/VS Code/MLOPs/EmployeeAttrition/data/employee_attrition_clean.csv\"\n",
    "TARGET = \"Attrition\""
   ]
  },
  {
   "cell_type": "code",
   "execution_count": 32,
   "id": "d7c73bec",
   "metadata": {},
   "outputs": [
    {
     "name": "stdout",
     "output_type": "stream",
     "text": [
      "Train size: (1176, 30) Test size: (294, 30)\n",
      "Class balance in train: Attrition\n",
      "0    0.838435\n",
      "1    0.161565\n",
      "Name: proportion, dtype: float64\n"
     ]
    }
   ],
   "source": [
    "df = pd.read_csv(DATA_PATH)\n",
    "\n",
    "# y = 0/1\n",
    "y = df[TARGET].map({\"No\":0, \"Yes\":1})\n",
    "X = df.drop(columns=[TARGET])\n",
    "\n",
    "X_train, X_test, y_train, y_test = train_test_split(\n",
    "    X, y, test_size=0.2, random_state=42, stratify=y\n",
    ")\n",
    "\n",
    "print(\"Train size:\", X_train.shape, \"Test size:\", X_test.shape)\n",
    "print(\"Class balance in train:\", y_train.value_counts(normalize=True))\n"
   ]
  },
  {
   "cell_type": "code",
   "execution_count": 33,
   "id": "19a7d800",
   "metadata": {},
   "outputs": [],
   "source": [
    "num_features = X.select_dtypes(include=[\"int64\",\"float64\"]).columns\n",
    "cat_features = X.select_dtypes(include=[\"object\"]).columns\n",
    "\n",
    "preprocessor = ColumnTransformer([\n",
    "    (\"num\", Pipeline([\n",
    "        (\"imputer\", SimpleImputer(strategy=\"median\")),\n",
    "        (\"scaler\", StandardScaler())\n",
    "    ]), num_features),\n",
    "    (\"cat\", Pipeline([\n",
    "        (\"imputer\", SimpleImputer(strategy=\"most_frequent\")),\n",
    "        (\"ohe\", OneHotEncoder(handle_unknown=\"ignore\", sparse_output=False))\n",
    "    ]), cat_features),\n",
    "])\n"
   ]
  },
  {
   "cell_type": "code",
   "execution_count": 34,
   "id": "c7bbfef9",
   "metadata": {},
   "outputs": [
    {
     "name": "stderr",
     "output_type": "stream",
     "text": [
      "2025/09/28 05:38:04 WARNING mlflow.models.model: `artifact_path` is deprecated. Please use `name` instead.\n",
      "c:\\Users\\shani\\VS Code\\MLOPs\\EmployeeAttrition\\venev2\\lib\\site-packages\\mlflow\\types\\utils.py:452: UserWarning: Hint: Inferred schema contains integer column(s). Integer columns in Python cannot represent missing values. If your input data contains missing values at inference time, it will be encoded as floats and will cause a schema enforcement error. The best way to avoid this problem is to infer the model schema based on a realistic data sample (training dataset) that includes missing values. Alternatively, you can declare integer columns as doubles (float64) whenever these columns may have missing values. See `Handling Integers With Missing Values <https://www.mlflow.org/docs/latest/models.html#handling-integers-with-missing-values>`_ for more details.\n",
      "  warnings.warn(\n",
      "c:\\Users\\shani\\VS Code\\MLOPs\\EmployeeAttrition\\venev2\\lib\\site-packages\\mlflow\\types\\utils.py:452: UserWarning: Hint: Inferred schema contains integer column(s). Integer columns in Python cannot represent missing values. If your input data contains missing values at inference time, it will be encoded as floats and will cause a schema enforcement error. The best way to avoid this problem is to infer the model schema based on a realistic data sample (training dataset) that includes missing values. Alternatively, you can declare integer columns as doubles (float64) whenever these columns may have missing values. See `Handling Integers With Missing Values <https://www.mlflow.org/docs/latest/models.html#handling-integers-with-missing-values>`_ for more details.\n",
      "  warnings.warn(\n"
     ]
    },
    {
     "name": "stdout",
     "output_type": "stream",
     "text": [
      "🏃 View run logreg_balanced at: http://127.0.0.1:5000/#/experiments/321935713767798698/runs/a32fd70d4c914c3a9e2ac0b32e63d86c\n",
      "🧪 View experiment at: http://127.0.0.1:5000/#/experiments/321935713767798698\n",
      "Logistic Regression: {'accuracy': 0.7517006802721088, 'precision': 0.3488372093023256, 'recall': 0.6382978723404256, 'f1': 0.45112781954887216, 'roc_auc': 0.8031699543457662}\n"
     ]
    }
   ],
   "source": [
    "from sklearn.linear_model import LogisticRegression\n",
    "\n",
    "logreg = Pipeline([\n",
    "    (\"preprocessor\", preprocessor),\n",
    "    (\"clf\", LogisticRegression(max_iter=1000, class_weight=\"balanced\"))\n",
    "])\n",
    "\n",
    "with mlflow.start_run(run_name=\"logreg_balanced\") as run:\n",
    "    logreg.fit(X_train, y_train)\n",
    "    y_pred  = logreg.predict(X_test)\n",
    "    y_proba = logreg.predict_proba(X_test)[:,1]\n",
    "\n",
    "    metrics = {\n",
    "        \"accuracy\":  accuracy_score(y_test, y_pred),\n",
    "        \"precision\": precision_score(y_test, y_pred, zero_division=0),\n",
    "        \"recall\":    recall_score(y_test, y_pred, zero_division=0),\n",
    "        \"f1\":        f1_score(y_test, y_pred, zero_division=0),\n",
    "        \"roc_auc\":   roc_auc_score(y_test, y_proba)\n",
    "    }\n",
    "\n",
    "    mlflow.log_params({\"model\": \"LogisticRegression\", \"class_weight\":\"balanced\"})\n",
    "    mlflow.log_metrics(metrics)\n",
    "    mlflow.sklearn.log_model(logreg, \"model\", input_example=X_train.iloc[:1])\n",
    "\n",
    "print(\"Logistic Regression:\", metrics)\n"
   ]
  },
  {
   "cell_type": "code",
   "execution_count": 35,
   "id": "6aeee9d8",
   "metadata": {},
   "outputs": [
    {
     "name": "stderr",
     "output_type": "stream",
     "text": [
      "2025/09/28 05:38:15 WARNING mlflow.models.model: `artifact_path` is deprecated. Please use `name` instead.\n",
      "c:\\Users\\shani\\VS Code\\MLOPs\\EmployeeAttrition\\venev2\\lib\\site-packages\\mlflow\\types\\utils.py:452: UserWarning: Hint: Inferred schema contains integer column(s). Integer columns in Python cannot represent missing values. If your input data contains missing values at inference time, it will be encoded as floats and will cause a schema enforcement error. The best way to avoid this problem is to infer the model schema based on a realistic data sample (training dataset) that includes missing values. Alternatively, you can declare integer columns as doubles (float64) whenever these columns may have missing values. See `Handling Integers With Missing Values <https://www.mlflow.org/docs/latest/models.html#handling-integers-with-missing-values>`_ for more details.\n",
      "  warnings.warn(\n",
      "c:\\Users\\shani\\VS Code\\MLOPs\\EmployeeAttrition\\venev2\\lib\\site-packages\\mlflow\\types\\utils.py:452: UserWarning: Hint: Inferred schema contains integer column(s). Integer columns in Python cannot represent missing values. If your input data contains missing values at inference time, it will be encoded as floats and will cause a schema enforcement error. The best way to avoid this problem is to infer the model schema based on a realistic data sample (training dataset) that includes missing values. Alternatively, you can declare integer columns as doubles (float64) whenever these columns may have missing values. See `Handling Integers With Missing Values <https://www.mlflow.org/docs/latest/models.html#handling-integers-with-missing-values>`_ for more details.\n",
      "  warnings.warn(\n"
     ]
    },
    {
     "name": "stdout",
     "output_type": "stream",
     "text": [
      "🏃 View run rf_balanced at: http://127.0.0.1:5000/#/experiments/321935713767798698/runs/d0a47ad39bc6427686d0a0bf841a7bfe\n",
      "🧪 View experiment at: http://127.0.0.1:5000/#/experiments/321935713767798698\n",
      "Random Forest: {'accuracy': 0.8401360544217688, 'precision': 0.5, 'recall': 0.10638297872340426, 'f1': 0.17543859649122806, 'roc_auc': 0.7926608665690412}\n"
     ]
    }
   ],
   "source": [
    "#Random Forest\n",
    "from sklearn.ensemble import RandomForestClassifier\n",
    "\n",
    "rf = Pipeline([\n",
    "    (\"preprocessor\", preprocessor),\n",
    "    (\"clf\", RandomForestClassifier(\n",
    "        n_estimators=300, random_state=42, n_jobs=-1,\n",
    "        min_samples_split=5, class_weight=\"balanced_subsample\"\n",
    "    ))\n",
    "])\n",
    "\n",
    "with mlflow.start_run(run_name=\"rf_balanced\") as run:\n",
    "    rf.fit(X_train, y_train)\n",
    "    y_pred  = rf.predict(X_test)\n",
    "    y_proba = rf.predict_proba(X_test)[:,1]\n",
    "\n",
    "    metrics_rf = {\n",
    "        \"accuracy\":  accuracy_score(y_test, y_pred),\n",
    "        \"precision\": precision_score(y_test, y_pred, zero_division=0),\n",
    "        \"recall\":    recall_score(y_test, y_pred, zero_division=0),\n",
    "        \"f1\":        f1_score(y_test, y_pred, zero_division=0),\n",
    "        \"roc_auc\":   roc_auc_score(y_test, y_proba)\n",
    "    }\n",
    "\n",
    "    mlflow.log_params({\"model\":\"RandomForest\",\"n_estimators\":300,\"min_samples_split\":5})\n",
    "    mlflow.log_metrics(metrics_rf)\n",
    "    mlflow.sklearn.log_model(rf, \"model\", input_example=X_train.iloc[:1])\n",
    "\n",
    "print(\"Random Forest:\", metrics_rf)\n"
   ]
  },
  {
   "cell_type": "code",
   "execution_count": 36,
   "id": "68889673",
   "metadata": {},
   "outputs": [
    {
     "name": "stderr",
     "output_type": "stream",
     "text": [
      "2025/09/28 05:38:23 WARNING mlflow.models.model: `artifact_path` is deprecated. Please use `name` instead.\n",
      "c:\\Users\\shani\\VS Code\\MLOPs\\EmployeeAttrition\\venev2\\lib\\site-packages\\mlflow\\types\\utils.py:452: UserWarning: Hint: Inferred schema contains integer column(s). Integer columns in Python cannot represent missing values. If your input data contains missing values at inference time, it will be encoded as floats and will cause a schema enforcement error. The best way to avoid this problem is to infer the model schema based on a realistic data sample (training dataset) that includes missing values. Alternatively, you can declare integer columns as doubles (float64) whenever these columns may have missing values. See `Handling Integers With Missing Values <https://www.mlflow.org/docs/latest/models.html#handling-integers-with-missing-values>`_ for more details.\n",
      "  warnings.warn(\n",
      "c:\\Users\\shani\\VS Code\\MLOPs\\EmployeeAttrition\\venev2\\lib\\site-packages\\mlflow\\types\\utils.py:452: UserWarning: Hint: Inferred schema contains integer column(s). Integer columns in Python cannot represent missing values. If your input data contains missing values at inference time, it will be encoded as floats and will cause a schema enforcement error. The best way to avoid this problem is to infer the model schema based on a realistic data sample (training dataset) that includes missing values. Alternatively, you can declare integer columns as doubles (float64) whenever these columns may have missing values. See `Handling Integers With Missing Values <https://www.mlflow.org/docs/latest/models.html#handling-integers-with-missing-values>`_ for more details.\n",
      "  warnings.warn(\n"
     ]
    },
    {
     "name": "stdout",
     "output_type": "stream",
     "text": [
      "🏃 View run xgb_spw at: http://127.0.0.1:5000/#/experiments/321935713767798698/runs/c98bfcf7f2f649aa9c15568d3f644c4b\n",
      "🧪 View experiment at: http://127.0.0.1:5000/#/experiments/321935713767798698\n",
      "XGBoost: {'accuracy': 0.8503401360544217, 'precision': 0.5517241379310345, 'recall': 0.3404255319148936, 'f1': 0.42105263157894735, 'roc_auc': 0.767077267637178}\n"
     ]
    }
   ],
   "source": [
    "#XGBoost\n",
    "import xgboost as xgb\n",
    "\n",
    "pos = y_train.sum(); neg = len(y_train)-pos\n",
    "scale = neg/pos if pos > 0 else 1.0\n",
    "\n",
    "xgb_pipe = Pipeline([\n",
    "    (\"preprocessor\", preprocessor),\n",
    "    (\"clf\", xgb.XGBClassifier(\n",
    "        n_estimators=400, max_depth=4, learning_rate=0.05,\n",
    "        subsample=0.8, colsample_bytree=0.8, reg_lambda=1.0,\n",
    "        objective=\"binary:logistic\", eval_metric=\"logloss\",\n",
    "        scale_pos_weight=scale, random_state=42, n_jobs=-1\n",
    "    ))\n",
    "])\n",
    "\n",
    "with mlflow.start_run(run_name=\"xgb_spw\") as run:\n",
    "    xgb_pipe.fit(X_train, y_train)\n",
    "    y_pred  = xgb_pipe.predict(X_test)\n",
    "    y_proba = xgb_pipe.predict_proba(X_test)[:,1]\n",
    "\n",
    "    metrics_xgb = {\n",
    "        \"accuracy\":  accuracy_score(y_test, y_pred),\n",
    "        \"precision\": precision_score(y_test, y_pred, zero_division=0),\n",
    "        \"recall\":    recall_score(y_test, y_pred, zero_division=0),\n",
    "        \"f1\":        f1_score(y_test, y_pred, zero_division=0),\n",
    "        \"roc_auc\":   roc_auc_score(y_test, y_proba)\n",
    "    }\n",
    "\n",
    "    mlflow.log_params({\"model\":\"XGBoost\",\"scale_pos_weight\":round(scale,2)})\n",
    "    mlflow.log_metrics(metrics_xgb)\n",
    "    mlflow.sklearn.log_model(xgb_pipe, \"model\", input_example=X_train.iloc[:1])\n",
    "\n",
    "print(\"XGBoost:\", metrics_xgb)\n"
   ]
  },
  {
   "cell_type": "code",
   "execution_count": 37,
   "id": "b354e629",
   "metadata": {},
   "outputs": [
    {
     "name": "stdout",
     "output_type": "stream",
     "text": [
      "LogReg: {'accuracy': 0.7517006802721088, 'precision': 0.3488372093023256, 'recall': 0.6382978723404256, 'f1': 0.45112781954887216, 'roc_auc': 0.8031699543457662}\n",
      "RandomForest: {'accuracy': 0.8401360544217688, 'precision': 0.5, 'recall': 0.10638297872340426, 'f1': 0.17543859649122806, 'roc_auc': 0.7926608665690412}\n",
      "XGBoost: {'accuracy': 0.8503401360544217, 'precision': 0.5517241379310345, 'recall': 0.3404255319148936, 'f1': 0.42105263157894735, 'roc_auc': 0.767077267637178}\n"
     ]
    }
   ],
   "source": [
    "print(\"LogReg:\", metrics)\n",
    "print(\"RandomForest:\", metrics_rf)\n",
    "print(\"XGBoost:\", metrics_xgb)"
   ]
  },
  {
   "cell_type": "code",
   "execution_count": 38,
   "id": "f3a0ac06",
   "metadata": {},
   "outputs": [
    {
     "name": "stdout",
     "output_type": "stream",
     "text": [
      "Best run: a32fd70d4c914c3a9e2ac0b32e63d86c F1: 0.45112781954887216\n"
     ]
    },
    {
     "name": "stderr",
     "output_type": "stream",
     "text": [
      "Successfully registered model 'employee-attrition-model'.\n",
      "2025/09/28 05:38:29 WARNING mlflow.tracking._model_registry.fluent: Run with id a32fd70d4c914c3a9e2ac0b32e63d86c has no artifacts at artifact path 'model', registering model based on models:/m-a13d98e8b7d0464695e0309277bb089e instead\n",
      "2025/09/28 05:38:29 INFO mlflow.store.model_registry.abstract_store: Waiting up to 300 seconds for model version to finish creation. Model name: employee-attrition-model, version 1\n",
      "Created version '1' of model 'employee-attrition-model'.\n"
     ]
    },
    {
     "name": "stdout",
     "output_type": "stream",
     "text": [
      "✅ Registered employee-attrition-model v1 as Production\n"
     ]
    }
   ],
   "source": [
    "from mlflow.tracking import MlflowClient\n",
    "\n",
    "# Use the NEW experiment name here\n",
    "EXPERIMENT_NAME = \"employee-attrition-prod\" \n",
    "\n",
    "client = MlflowClient()\n",
    "exp = client.get_experiment_by_name(EXPERIMENT_NAME)\n",
    "runs = mlflow.search_runs([exp.experiment_id])\n",
    "\n",
    "\n",
    "# pick best by F1\n",
    "best = runs.sort_values(\"metrics.f1\", ascending=False).iloc[0]\n",
    "best_run_id = best.run_id\n",
    "best_f1 = best[\"metrics.f1\"]\n",
    "\n",
    "print(\"Best run:\", best_run_id, \"F1:\", best_f1)\n",
    "\n",
    "MODEL_NAME = \"employee-attrition-model\"\n",
    "result = mlflow.register_model(model_uri=f\"runs:/{best_run_id}/model\", name=MODEL_NAME)\n",
    "version = result.version\n",
    "\n",
    "client.set_registered_model_alias(MODEL_NAME, \"production\", version=version)\n",
    "client.set_model_version_tag(MODEL_NAME, version, \"f1\", f\"{best_f1:.4f}\")\n",
    "\n",
    "print(f\"✅ Registered {MODEL_NAME} v{version} as Production\")\n"
   ]
  },
  {
   "cell_type": "code",
   "execution_count": 39,
   "id": "ba4210af",
   "metadata": {},
   "outputs": [
    {
     "name": "stderr",
     "output_type": "stream",
     "text": [
      "C:\\Users\\shani\\AppData\\Local\\Temp\\ipykernel_19576\\2909206825.py:8: FutureWarning: ``mlflow.tracking.client.MlflowClient.get_latest_versions`` is deprecated since 2.9.0. Model registry stages will be removed in a future major release. To learn more about the deprecation of model registry stages, see our migration guide here: https://mlflow.org/docs/latest/model-registry.html#migrating-from-stages\n",
      "  latest_version = client.get_latest_versions(MODEL_NAME, [\"None\"])[0].version\n"
     ]
    }
   ],
   "source": [
    "from mlflow.tracking import MlflowClient\n",
    "\n",
    "client = MlflowClient()\n",
    "\n",
    "MODEL_NAME = \"employee-attrition-model\"\n",
    "\n",
    "# Get the latest registered version\n",
    "latest_version = client.get_latest_versions(MODEL_NAME, [\"None\"])[0].version\n",
    "\n",
    "features = [\n",
    "    \"Age\", \"DailyRate\", \"DistanceFromHome\", \"Education\", \"EnvironmentSatisfaction\",\n",
    "    \"HourlyRate\", \"JobInvolvement\", \"JobLevel\", \"JobSatisfaction\", \"MonthlyIncome\",\n",
    "    \"MonthlyRate\", \"NumCompaniesWorked\", \"PercentSalaryHike\", \"PerformanceRating\",\n",
    "    \"RelationshipSatisfaction\", \"StockOptionLevel\", \"TotalWorkingYears\",\n",
    "    \"TrainingTimesLastYear\", \"WorkLifeBalance\", \"YearsAtCompany\", \"YearsInCurrentRole\",\n",
    "    \"YearsSinceLastPromotion\", \"YearsWithCurrManager\",\n",
    "    \"BusinessTravel\", \"Department\", \"EducationField\", \"Gender\", \"JobRole\", \"MaritalStatus\", \"OverTime\"\n",
    "]\n",
    "\n",
    "client.set_model_version_tag(MODEL_NAME, latest_version, \"features_used\", \",\".join(features))\n"
   ]
  },
  {
   "cell_type": "code",
   "execution_count": 40,
   "id": "b9fe2394",
   "metadata": {},
   "outputs": [
    {
     "name": "stdout",
     "output_type": "stream",
     "text": [
      "MLflow is currently saving data to: http://127.0.0.1:5000\n"
     ]
    }
   ],
   "source": [
    "# Add this to a new, final cell and run it\n",
    "import mlflow\n",
    "\n",
    "print(f\"MLflow is currently saving data to: {mlflow.get_tracking_uri()}\")"
   ]
  }
 ],
 "metadata": {
  "kernelspec": {
   "display_name": "Python 3",
   "language": "python",
   "name": "python3"
  },
  "language_info": {
   "codemirror_mode": {
    "name": "ipython",
    "version": 3
   },
   "file_extension": ".py",
   "mimetype": "text/x-python",
   "name": "python",
   "nbconvert_exporter": "python",
   "pygments_lexer": "ipython3",
   "version": "3.10.0"
  }
 },
 "nbformat": 4,
 "nbformat_minor": 5
}
